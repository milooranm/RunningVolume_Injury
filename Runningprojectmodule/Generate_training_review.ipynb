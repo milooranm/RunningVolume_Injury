{
 "cells": [
  {
   "cell_type": "code",
   "execution_count": null,
   "id": "a660f98b",
   "metadata": {},
   "outputs": [],
   "source": [
    "import pandas as pd\n",
    "import numpy as np\n",
    "import pickle\n",
    "from APIcall_v2 import main_api_call\n",
    "from data_extraction import main_extract_transform_memory"
   ]
  },
  {
   "cell_type": "code",
   "execution_count": null,
   "id": "7fe1af8b",
   "metadata": {},
   "outputs": [],
   "source": [
    "start_date, end_date, df_memory = main_api_call()\n"
   ]
  },
  {
   "cell_type": "code",
   "execution_count": null,
   "id": "58c3eb35",
   "metadata": {},
   "outputs": [],
   "source": [
    "df = main_extract_transform_memory(start_date, end_date, df_memory)"
   ]
  },
  {
   "cell_type": "code",
   "execution_count": null,
   "id": "17ff08f9",
   "metadata": {},
   "outputs": [],
   "source": [
    "def normalize_user(row, mean_df, std_df):\n",
    "    mu = mean_df\n",
    "    su = std_df\n",
    "    z = (row - mu)/su\n",
    "    return z\n",
    "\n",
    "# Calculate the means and standard deviations of all healthy events per athlete\n",
    "def getMeanStd_user(data):\n",
    "    mean = data.mean()\n",
    "    std = data.std()\n",
    "    std.replace(to_replace=0.0, value=0.01, inplace=True)\n",
    "    return mean, std\n",
    "\n",
    "user_test_means, user_test_std = getMeanStd_user(df.copy())\n",
    "\n",
    "# Apply normalization to the *test data* using the *training* statistics\n",
    "user_normalized = df.apply(lambda x: normalize_user(x, user_test_means,user_test_std), axis=1)\n",
    "user_normalized = user_normalized.drop(columns=[ 'Date'], errors='ignore')\n"
   ]
  },
  {
   "cell_type": "code",
   "execution_count": null,
   "id": "eb689645",
   "metadata": {},
   "outputs": [],
   "source": [
    "# import the model\n",
    "with open('../models/logistic_model.pkl', 'rb') as file:\n",
    "    model = pickle.load(file)\n",
    "# make predictions\n",
    "predictions = model.predict(user_normalized)\n",
    "# make probability predictions\n",
    "probs = model.predict_proba(user_normalized)[:, 1]\n",
    "df['injury predictions'] = predictions\n",
    "df['injury probabilities'] = probs"
   ]
  },
  {
   "cell_type": "code",
   "execution_count": null,
   "id": "a6bcb99b",
   "metadata": {},
   "outputs": [],
   "source": [
    "# plot the probabilities over time\n",
    "import matplotlib.pyplot as plt\n",
    "\n",
    "# plot the probabilities over time\n",
    "plt.figure(figsize=(12,6))\n",
    "plt.xlabel('Date')\n",
    "plt.ylabel('Injury Probability Score')\n",
    "plt.plot(df['Date'],df['injury probabilities'])\n",
    "plt.xticks(ticks=range(0, len(df['Date']), 10), labels=df['Date'][::10], rotation=20, ha='right')\n",
    "\n",
    "# plot the probabilities over time with a rolling mean\n",
    "plt.figure(figsize=(12,6))\n",
    "plt.plot(df['Date'],df['injury probabilities'].rolling(window=4).mean())\n",
    "plt.xlabel('Date')\n",
    "plt.ylabel('Injury Probability Score')\n",
    "plt.xticks(ticks=range(0, len(df['Date']), 10), labels=df['Date'][::10], rotation=20, ha='right')\n",
    "plt.show()"
   ]
  },
  {
   "cell_type": "code",
   "execution_count": null,
   "id": "0415ec4c",
   "metadata": {},
   "outputs": [],
   "source": []
  }
 ],
 "metadata": {
  "kernelspec": {
   "display_name": "base",
   "language": "python",
   "name": "python3"
  },
  "language_info": {
   "codemirror_mode": {
    "name": "ipython",
    "version": 3
   },
   "file_extension": ".py",
   "mimetype": "text/x-python",
   "name": "python",
   "nbconvert_exporter": "python",
   "pygments_lexer": "ipython3",
   "version": "3.9.13"
  }
 },
 "nbformat": 4,
 "nbformat_minor": 5
}
