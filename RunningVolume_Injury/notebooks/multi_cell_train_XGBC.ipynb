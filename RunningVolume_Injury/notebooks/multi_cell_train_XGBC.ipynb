{
 "cells": [
  {
   "cell_type": "code",
   "execution_count": 13,
   "id": "d90bf77b",
   "metadata": {},
   "outputs": [
    {
     "data": {
      "text/plain": [
       "'\\n!pip install hyperopt\\n!pip3 install bayesian_optimization==1.4.0\\n!pip3 install colorama==0.4.4\\n!pip install skopt\\n'"
      ]
     },
     "execution_count": 13,
     "metadata": {},
     "output_type": "execute_result"
    }
   ],
   "source": [
    "'''\n",
    "!pip install hyperopt\n",
    "!pip3 install bayesian_optimization==1.4.0\n",
    "!pip3 install colorama==0.4.4\n",
    "!pip install skopt\n",
    "'''"
   ]
  },
  {
   "cell_type": "code",
   "execution_count": 14,
   "id": "2d579903",
   "metadata": {},
   "outputs": [],
   "source": [
    "import pandas as pd\n",
    "import numpy as np\n",
    "import regex as re\n",
    "import matplotlib.pyplot as plt\n",
    "import seaborn as sns\n",
    "from xgboost import XGBClassifier\n",
    "from sklearn.metrics import confusion_matrix\n",
    "from sklearn.metrics import precision_recall_curve,auc\n",
    "\n",
    "\n",
    "from hyperopt import fmin, tpe, hp, STATUS_OK, Trials\n",
    "from bayes_opt import BayesianOptimization\n",
    "from skopt import space\n",
    "from skopt import BayesSearchCV"
   ]
  },
  {
   "cell_type": "code",
   "execution_count": 15,
   "id": "62eab895",
   "metadata": {},
   "outputs": [],
   "source": [
    "def normalize2(row, mean_df, std_df, athlete_id):\n",
    "    mu = mean_df.loc[athlete_id]\n",
    "    su = std_df.loc[athlete_id]\n",
    "    z = (row - mu)/su\n",
    "    return z"
   ]
  },
  {
   "cell_type": "code",
   "execution_count": 16,
   "id": "4ed5b7ca",
   "metadata": {},
   "outputs": [],
   "source": [
    "def getMeanStd(data):\n",
    "    mean = data[data['injury'] == 0].groupby('Athlete ID').mean()\n",
    "    std = data[data['injury'] == 0].groupby('Athlete ID').std()\n",
    "    std.replace(to_replace=0.0, value=0.01, inplace=True)\n",
    "    return mean, std"
   ]
  },
  {
   "cell_type": "code",
   "execution_count": 17,
   "id": "d47278be",
   "metadata": {},
   "outputs": [],
   "source": [
    "def getBalancedSubset(X_train, samplesPerClass):\n",
    "    healthySet   = pd.DataFrame()\n",
    "    unhealthySet = pd.DataFrame()\n",
    "    \n",
    "\n",
    "    stats = pd.DataFrame(X_train[['Athlete ID','injury']].groupby(['Athlete ID','injury']).size().reset_index(name='counts'))\n",
    "    stats = pd.DataFrame(stats[['Athlete ID']].groupby(['Athlete ID']).size().reset_index(name='counts'))\n",
    "    stats.drop(stats[stats['counts'] < 2].index, inplace=True)\n",
    "    athleteList = stats['Athlete ID'].unique()\n",
    "\n",
    "    samplesPerAthlete = int(np.floor(samplesPerClass) / len(athleteList))\n",
    "\n",
    "    for athlete in athleteList:\n",
    "        if unhealthySet.empty:\n",
    "            unhealthySet = X_train[(X_train['Athlete ID'] == athlete) & (X_train['injury'] == 0)].sample(samplesPerAthlete, replace=True)\n",
    "        else:\n",
    "            unhealthySet = pd.concat([unhealthySet, X_train[(X_train['Athlete ID'] == athlete) & (X_train['injury'] == 0)].sample(samplesPerAthlete,replace=True)], ignore_index=True)\n",
    "        if healthySet.empty:\n",
    "            healthySet = X_train[(X_train['Athlete ID'] == athlete) & (X_train['injury'] == 1)].sample(samplesPerAthlete, replace=True)\n",
    "        else:\n",
    "            healthySet = pd.concat([healthySet, X_train[(X_train['Athlete ID'] == athlete) & (X_train['injury'] == 1)].sample(samplesPerAthlete,replace=True)], ignore_index=True)\n",
    "\n",
    "\n",
    "    balancedSet = pd.concat([healthySet, unhealthySet], ignore_index=True)\n",
    "    return balancedSet"
   ]
  },
  {
   "cell_type": "code",
   "execution_count": 18,
   "id": "6c732058",
   "metadata": {},
   "outputs": [],
   "source": [
    "def prepare_balanced_data(df,test_athletes):\n",
    "\n",
    "    X_test_original = df[df['Athlete ID'].isin(test_athletes)].copy() # Keep a copy for normalization\n",
    "    X_train_original = df[~df['Athlete ID'].isin(test_athletes)].copy() # Keep a copy\n",
    "\n",
    "    X_train_means, X_train_std = getMeanStd(X_train_original)\n",
    "    X_test_means, X_test_std = getMeanStd(X_test_original)\n",
    "    X_train_balanced = getBalancedSubset(X_train_original.copy(), 2048)\n",
    "    \n",
    "    # Set target variable for testing and training\n",
    "    y_train = X_train_balanced['injury']\n",
    "    y_test = X_test_original['injury']\n",
    "\n",
    "    # Apply normalization to the balanced training data\n",
    "    X_train_norm = X_train_balanced.apply(lambda x: normalize2(x, X_train_means, X_train_std, x['Athlete ID']), axis=1)\n",
    "    X_train_norm = X_train_norm.drop(columns=['injury', 'Date', 'Athlete ID'], errors='ignore')\n",
    "\n",
    "    # Apply normalization to the test data using the testing statistics\n",
    "    # Note this is a source of data leakage! but the alternative is not feasible\n",
    "    X_test_norm = X_test_original.apply(lambda x: normalize2(x, X_test_means, X_test_std, x['Athlete ID']), axis=1)\n",
    "    X_test_norm = X_test_norm.drop(columns=['injury', 'Date', 'Athlete ID'], errors='ignore')\n",
    "\n",
    "\n",
    "    return y_train, y_test, X_train_norm, X_test_norm\n"
   ]
  },
  {
   "cell_type": "code",
   "execution_count": 19,
   "id": "46fa833b",
   "metadata": {},
   "outputs": [],
   "source": [
    "def preparedata(df,test_athletes):\n",
    "\n",
    "    X_test_original = df[df['Athlete ID'].isin(test_athletes)].copy() # Keep a copy for normalization\n",
    "    X_train_original = df[~df['Athlete ID'].isin(test_athletes)].copy() # Keep a copy\n",
    "\n",
    "    X_train_means, X_train_std = getMeanStd(X_train_original)\n",
    "    X_test_means, X_test_std = getMeanStd(X_test_original)\n",
    "    \n",
    "    # Set target variable for testing and training\n",
    "    y_train = X_train_original['injury']\n",
    "    y_test = X_test_original['injury']\n",
    "\n",
    "    # Apply normalization to the training data\n",
    "    X_train_norm = X_train_original.apply(lambda x: normalize2(x, X_train_means, X_train_std, x['Athlete ID']), axis=1)\n",
    "    X_train_norm = X_train_norm.drop(columns=['injury', 'Date', 'Athlete ID'], errors='ignore')\n",
    "\n",
    "    # Apply normalization to the test data using the testing statistics\n",
    "        # Note this is a source of data leakage!! but the alternative is not feasible\n",
    "    X_test_norm = X_test_original.apply(lambda x: normalize2(x, X_test_means, X_test_std, x['Athlete ID']), axis=1)\n",
    "    X_test_norm = X_test_norm.drop(columns=['injury', 'Date', 'Athlete ID'], errors='ignore')\n",
    "\n",
    "\n",
    "    return y_train, y_test, X_train_norm, X_test_norm"
   ]
  },
  {
   "cell_type": "code",
   "execution_count": 28,
   "id": "f2f5b65a",
   "metadata": {},
   "outputs": [],
   "source": [
    "def objective(space, X_train, y_train, X_test, y_test):\n",
    "    \"\"\"\n",
    "    Objective function for Hyperopt to minimize (1 - aucpr).\n",
    "\n",
    "    Args:\n",
    "        space (dict): A dictionary of hyperparameters to tune.\n",
    "        X_train (pd.DataFrame or np.ndarray): The training feature data.\n",
    "        y_train (pd.Series or np.ndarray): The target variable of the training data.\n",
    "        X_test (pd.DataFrame or np.ndarray): The testing feature data.\n",
    "        y_test (pd.Series or np.ndarray): The target variable of the testing data.\n",
    "        \n",
    "    Returns:\n",
    "        dict: The loss (1-aucpr), status, and predicted values.\n",
    "    \"\"\"\n",
    "    \n",
    "    model = XGBClassifier(\n",
    "        objective='binary:logistic',\n",
    "        eval_metric='aucpr',\n",
    "        use_label_encoder=False,\n",
    "        scale_pos_weight=len(y_train[y_train==0])/len(y_train[y_train==1]),\n",
    "        **space\n",
    "    )\n",
    "\n",
    "    model.fit(X_train, y_train, eval_set=[(X_test, y_test)], verbose=False)\n",
    "    y_pred_proba = model.predict_proba(X_test)[:, 1]\n",
    "    precision, recall, _ = precision_recall_curve(y_test, y_pred_proba)\n",
    "    aucpr = auc(recall, precision)\n",
    "    loss = 1 - aucpr  # Minimize (1 - aucpr)\n",
    "\n",
    "    return {'loss': loss, 'status': STATUS_OK, 'aucpr': aucpr, 'y_pred_proba': y_pred_proba}"
   ]
  },
  {
   "cell_type": "code",
   "execution_count": 29,
   "id": "474151f4",
   "metadata": {},
   "outputs": [],
   "source": [
    "def tune_xgboost(X_train, y_train, X_test, y_test, max_evals=100):\n",
    "    \"\"\"\n",
    "    Tunes the hyperparameters of an XGBoost model using Bayesian optimization.\n",
    "\n",
    "    Args:\n",
    "        X_train (pd.DataFrame or np.ndarray): The training feature data.\n",
    "        y_train (pd.Series or np.ndarray): The target variable of the training data.\n",
    "        X_test (pd.DataFrame or np.ndarray): The testing feature data.\n",
    "        y_test (pd.Series or np.ndarray): The target variable of the testing data.\n",
    "        max_evals (int, optional): The maximum number of evaluations for Hyperopt. Defaults to 100.\n",
    "\n",
    "    Returns:\n",
    "        tuple: (best_params, trials)\n",
    "            - best_params (dict): The best hyperparameters found.\n",
    "            - trials (Trials): The trials object from Hyperopt containing all results.\n",
    "    \"\"\"\n",
    "    search_space = {\n",
    "    'learning_rate': space.Real(0.01, 1.0, prior='uniform', name='learning_rate'),\n",
    "    'n_estimators': space.Integer(100, 1000, prior='uniform', name='n_estimators'),\n",
    "    'max_depth': space.Integer(3, 10, prior='uniform', name='max_depth'),\n",
    "    'min_child_weight': space.Integer(1, 10, prior='uniform', name='min_child_weight'),\n",
    "    'subsample': space.Real(0.1, 1.0, prior='uniform', name='subsample'),\n",
    "    'colsample_bytree': space.Real(0.1, 1.0, prior='uniform', name='colsample_bytree'),\n",
    "    }\n",
    "\n",
    "    trials = Trials()\n",
    "\n",
    "    best = fmin(fn=lambda space: objective(space, X_train, y_train, X_test, y_test),\n",
    "                space=search_space,\n",
    "                algo=tpe.suggest,\n",
    "                max_evals=max_evals,\n",
    "                trials=trials)\n",
    "\n",
    "    best_params = XGBClassifier(\n",
    "        objective='binary:logistic',\n",
    "        eval_metric='aucpr',\n",
    "        use_label_encoder=False,\n",
    "        scale_pos_weight=len(y_train[y_train==0])/len(y_train[y_train==1]),\n",
    "        **best\n",
    "    ).get_params()  # Get the parameters in a suitable format\n",
    "\n",
    "    return best_params, trials"
   ]
  },
  {
   "cell_type": "code",
   "execution_count": 30,
   "id": "161cdd29",
   "metadata": {},
   "outputs": [],
   "source": [
    "def main_train(X_train, y_train, X_test, y_test):\n",
    "    \"\"\"\n",
    "    Main function to run the XGBoost hyperparameter tuning and evaluation.\n",
    "\n",
    "    Args:\n",
    "        X_train (pd.DataFrame or np.ndarray): The training feature data.\n",
    "        y_train (pd.Series or np.ndarray): The target variable of the training data.\n",
    "        X_test (pd.DataFrame or np.ndarray): The testing feature data.\n",
    "        y_test (pd.Series or np.ndarray): The target variable of the testing data.\n",
    "    \"\"\"\n",
    "\n",
    "    best_params, trials = tune_xgboost(X_train, y_train, X_test, y_test, max_evals=100) # You can change max_evals\n",
    "\n",
    "    print(\"Best Hyperparameters:\")\n",
    "    print(best_params)\n",
    "\n",
    "    # Train the final model with the best hyperparameters\n",
    "    final_model = XGBClassifier(\n",
    "        objective='binary:logistic',\n",
    "        eval_metric='aucpr',\n",
    "        use_label_encoder=False,\n",
    "        scale_pos_weight=len(y_train[y_train==0])/len(y_train[y_train==1]),\n",
    "        **best_params\n",
    "    )\n",
    "    final_model.fit(X_train, y_train)\n",
    "\n",
    "    # Evaluate the final model on the test set\n",
    "    y_pred_proba = final_model.predict_proba(X_test)[:, 1]\n",
    "    precision, recall, _ = precision_recall_curve(y_test, y_pred_proba)\n",
    "    aucpr = auc(recall, precision)\n",
    "    print(f\"Final Model PR AUC on Test Set: {aucpr:.4f}\")\n",
    "\n",
    "    #  You can add code here to save the model, the predictions, or the trials object if needed.\n",
    "    return final_model, aucpr"
   ]
  },
  {
   "cell_type": "code",
   "execution_count": null,
   "id": "41c6e453",
   "metadata": {},
   "outputs": [],
   "source": [
    "dfday = pd.read_csv('../data/raw/day_approach.csv')\n",
    "dfday.drop(list(dfday.filter(regex = 'perceived|sprinting|strength')), axis = 1, inplace = True)\n",
    "athletes = sorted(list(dfday['Athlete ID'].unique()))\n",
    "test_athletes = athletes[len(athletes) - 10:]\n",
    "y_train, y_test, X_train, X_test = preparedata(dfday, test_athletes)\n",
    "final_model, final_aucpr = main_train(X_train, y_train, X_test, y_test)"
   ]
  },
  {
   "cell_type": "markdown",
   "id": "9c48927b",
   "metadata": {},
   "source": [
    "below used for previous implementation\n"
   ]
  },
  {
   "cell_type": "code",
   "execution_count": 6,
   "id": "c6f7591c",
   "metadata": {},
   "outputs": [],
   "source": [
    "def train_model(X_train, y_train):\n",
    "    xgbc = XGBClassifier()\n",
    "    xgbc.fit(X_train, y_train)\n",
    "    return xgbc"
   ]
  },
  {
   "cell_type": "markdown",
   "id": "659336eb",
   "metadata": {},
   "source": [
    "### main"
   ]
  },
  {
   "cell_type": "code",
   "execution_count": null,
   "id": "d4418316",
   "metadata": {},
   "outputs": [],
   "source": [
    "dfday = pd.read_csv('../data/raw/day_approach.csv')\n",
    "dfday.drop(list(dfday.filter(regex = 'perceived|sprinting|strength')), axis = 1, inplace = True)\n",
    "athletes = sorted(list(dfday['Athlete ID'].unique()))\n",
    "test_athletes = athletes[len(athletes) - 10:]\n",
    "y_train, y_test, X_train, X_test = preparedata(dfday, test_athletes)\n",
    "model = train_model(X_train, y_train)\n",
    "y_pred = model.predict(X_test)"
   ]
  },
  {
   "cell_type": "code",
   "execution_count": 10,
   "id": "f8dadd74",
   "metadata": {},
   "outputs": [
    {
     "data": {
      "text/plain": [
       "'y_train, y_test, X_train, X_test = preparedata(dfday, test_athletes)\\nmodel = train_model(X_train, y_train)\\ny_pred = model.predict(X_test)\\nconfusion_matrix(y_test, y_pred)\\n'"
      ]
     },
     "execution_count": 10,
     "metadata": {},
     "output_type": "execute_result"
    }
   ],
   "source": [
    "'''y_train, y_test, X_train, X_test = preparedata(dfday, test_athletes)\n",
    "model = train_model(X_train, y_train)\n",
    "y_pred = model.predict(X_test)\n",
    "confusion_matrix(y_test, y_pred)\n",
    "'''"
   ]
  },
  {
   "cell_type": "code",
   "execution_count": 14,
   "id": "a9c6295b",
   "metadata": {},
   "outputs": [
    {
     "data": {
      "image/png": "[encoded data removed]",
      "text/plain": [
       "<Figure size 800x600 with 2 Axes>"
      ]
     },
     "metadata": {},
     "output_type": "display_data"
    }
   ],
   "source": [
    "conf_matrix = confusion_matrix(y_test, y_pred)\n",
    "conf_matrix\n",
    "plt.figure(figsize=(8, 6))\n",
    "sns.heatmap(conf_matrix, annot=True, fmt='d', cmap='Blues', annot_kws={\"size\": 16})\n",
    "plt.xlabel('Predicted')\n",
    "plt.ylabel('Actual')\n",
    "plt.title('Confusion Matrix')\n",
    "plt.show()"
   ]
  },
  {
   "cell_type": "code",
   "execution_count": null,
   "id": "24d61a4b",
   "metadata": {},
   "outputs": [],
   "source": []
  }
 ],
 "metadata": {
  "kernelspec": {
   "display_name": "base",
   "language": "python",
   "name": "python3"
  },
  "language_info": {
   "codemirror_mode": {
    "name": "ipython",
    "version": 3
   },
   "file_extension": ".py",
   "mimetype": "text/x-python",
   "name": "python",
   "nbconvert_exporter": "python",
   "pygments_lexer": "ipython3",
   "version": "3.9.13"
  }
 },
 "nbformat": 4,
 "nbformat_minor": 5
}
